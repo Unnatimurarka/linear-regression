{
 "cells": [
  {
   "metadata": {
    "ExecuteTime": {
     "end_time": "2025-03-22T09:18:04.555559Z",
     "start_time": "2025-03-22T09:18:04.547148Z"
    }
   },
   "cell_type": "code",
   "source": [
    "import pandas as pd\n",
    "import numpy as np\n",
    "import matplotlib.pyplot as plt"
   ],
   "id": "64d2cd024e5e453a",
   "outputs": [],
   "execution_count": 78
  },
  {
   "metadata": {
    "ExecuteTime": {
     "end_time": "2025-03-22T09:18:04.628556Z",
     "start_time": "2025-03-22T09:18:04.612380Z"
    }
   },
   "cell_type": "code",
   "source": [
    "dat = pd.read_csv(\"./dataset.csv\")\n",
    "x, y = dat['X'], dat['Y']"
   ],
   "id": "5de53cd6f01c6a10",
   "outputs": [],
   "execution_count": 79
  },
  {
   "metadata": {
    "ExecuteTime": {
     "end_time": "2025-03-22T09:18:04.692019Z",
     "start_time": "2025-03-22T09:18:04.681375Z"
    }
   },
   "cell_type": "code",
   "source": [
    "print(x)\n",
    "print(x.shape)"
   ],
   "id": "c53f73482c7fdf92",
   "outputs": [
    {
     "name": "stdout",
     "output_type": "stream",
     "text": [
      "0     8\n",
      "1    12\n",
      "2    11\n",
      "3     5\n",
      "4    14\n",
      "5     3\n",
      "6     6\n",
      "7     8\n",
      "8     4\n",
      "9     9\n",
      "Name: X, dtype: int64\n",
      "(10,)\n"
     ]
    }
   ],
   "execution_count": 80
  },
  {
   "metadata": {
    "ExecuteTime": {
     "end_time": "2025-03-22T09:18:05.135879Z",
     "start_time": "2025-03-22T09:18:04.733565Z"
    }
   },
   "cell_type": "code",
   "source": [
    "print(\"Features (X)\")\n",
    "plt.bar(range(len(x)), x)"
   ],
   "id": "2517abc9ec5ad6e0",
   "outputs": [
    {
     "name": "stdout",
     "output_type": "stream",
     "text": [
      "Features (X)\n"
     ]
    },
    {
     "data": {
      "text/plain": [
       "<BarContainer object of 10 artists>"
      ]
     },
     "execution_count": 81,
     "metadata": {},
     "output_type": "execute_result"
    },
    {
     "data": {
      "text/plain": [
       "<Figure size 640x480 with 1 Axes>"
      ],
      "image/png": "[encoded data removed]"
     },
     "metadata": {},
     "output_type": "display_data"
    }
   ],
   "execution_count": 81
  },
  {
   "metadata": {
    "ExecuteTime": {
     "end_time": "2025-03-22T09:18:05.439095Z",
     "start_time": "2025-03-22T09:18:05.426976Z"
    }
   },
   "cell_type": "code",
   "source": [
    "print(y)\n",
    "print(y.shape)"
   ],
   "id": "c48abe0614439c90",
   "outputs": [
    {
     "name": "stdout",
     "output_type": "stream",
     "text": [
      "0    25\n",
      "1    35\n",
      "2    29\n",
      "3    24\n",
      "4    38\n",
      "5    12\n",
      "6    18\n",
      "7    27\n",
      "8    17\n",
      "9    30\n",
      "Name: Y, dtype: int64\n",
      "(10,)\n"
     ]
    }
   ],
   "execution_count": 82
  },
  {
   "metadata": {
    "ExecuteTime": {
     "end_time": "2025-03-22T09:18:06.228347Z",
     "start_time": "2025-03-22T09:18:05.800975Z"
    }
   },
   "cell_type": "code",
   "source": [
    "print(\"Labels (Y)\")\n",
    "plt.bar(range(len(y)), y)"
   ],
   "id": "f23d8ddb9a3e1d04",
   "outputs": [
    {
     "name": "stdout",
     "output_type": "stream",
     "text": [
      "Labels (Y)\n"
     ]
    },
    {
     "data": {
      "text/plain": [
       "<BarContainer object of 10 artists>"
      ]
     },
     "execution_count": 83,
     "metadata": {},
     "output_type": "execute_result"
    },
    {
     "data": {
      "text/plain": [
       "<Figure size 640x480 with 1 Axes>"
      ],
      "image/png": "[encoded data removed]"
     },
     "metadata": {},
     "output_type": "display_data"
    }
   ],
   "execution_count": 83
  },
  {
   "metadata": {
    "ExecuteTime": {
     "end_time": "2025-03-22T09:18:06.306130Z",
     "start_time": "2025-03-22T09:18:06.294189Z"
    }
   },
   "cell_type": "code",
   "source": [
    "def normalise(x):\n",
    "    xNorm = (x - x.min()) / (x.max() - x.min())\n",
    "    return xNorm"
   ],
   "id": "e5a3cf3bad348190",
   "outputs": [],
   "execution_count": 84
  },
  {
   "metadata": {
    "ExecuteTime": {
     "end_time": "2025-03-22T09:18:06.413859Z",
     "start_time": "2025-03-22T09:18:06.398484Z"
    }
   },
   "cell_type": "code",
   "source": [
    "xNorm = normalise(x)\n",
    "yNorm = normalise(y)\n",
    "print(xNorm)\n",
    "print(yNorm)"
   ],
   "id": "4c6227407938a6a2",
   "outputs": [
    {
     "name": "stdout",
     "output_type": "stream",
     "text": [
      "0    0.454545\n",
      "1    0.818182\n",
      "2    0.727273\n",
      "3    0.181818\n",
      "4    1.000000\n",
      "5    0.000000\n",
      "6    0.272727\n",
      "7    0.454545\n",
      "8    0.090909\n",
      "9    0.545455\n",
      "Name: X, dtype: float64\n",
      "0    0.500000\n",
      "1    0.884615\n",
      "2    0.653846\n",
      "3    0.461538\n",
      "4    1.000000\n",
      "5    0.000000\n",
      "6    0.230769\n",
      "7    0.576923\n",
      "8    0.192308\n",
      "9    0.692308\n",
      "Name: Y, dtype: float64\n"
     ]
    }
   ],
   "execution_count": 85
  },
  {
   "metadata": {
    "ExecuteTime": {
     "end_time": "2025-03-22T09:18:06.539335Z",
     "start_time": "2025-03-22T09:18:06.528724Z"
    }
   },
   "cell_type": "code",
   "source": [
    "def fit(x, y):\n",
    "    xBar = np.mean(x)\n",
    "    yBar = np.mean(y)\n",
    "    w = np.sum((x - xBar) * (y - yBar)) / np.sum((x - xBar) ** 2)\n",
    "    b = yBar - w * xBar\n",
    "    return w, b"
   ],
   "id": "cabf73cd3247237e",
   "outputs": [],
   "execution_count": 86
  },
  {
   "metadata": {
    "ExecuteTime": {
     "end_time": "2025-03-22T09:18:06.615767Z",
     "start_time": "2025-03-22T09:18:06.608551Z"
    }
   },
   "cell_type": "code",
   "source": [
    "def predict(x, w, b):\n",
    "    return w * x + b"
   ],
   "id": "9b43d3293501e137",
   "outputs": [],
   "execution_count": 87
  },
  {
   "metadata": {
    "ExecuteTime": {
     "end_time": "2025-03-22T09:18:06.659197Z",
     "start_time": "2025-03-22T09:18:06.648369Z"
    }
   },
   "cell_type": "code",
   "source": [
    "lr = 0.1\n",
    "bat = 10\n",
    "w, b = fit(xNorm, yNorm)\n",
    "yHat = predict(10, w, b)\n",
    "print(\"Prediction for input (10) =\", yHat)"
   ],
   "id": "2917ba62c9726a85",
   "outputs": [
    {
     "name": "stdout",
     "output_type": "stream",
     "text": [
      "Prediction for input (10) = 9.187997347480106\n"
     ]
    }
   ],
   "execution_count": 88
  },
  {
   "metadata": {
    "ExecuteTime": {
     "end_time": "2025-03-22T09:18:07.007209Z",
     "start_time": "2025-03-22T09:18:06.708591Z"
    }
   },
   "cell_type": "code",
   "source": [
    "fig, ax = plt.subplots()\n",
    "ax.set_title(\"Linear Regression Fit on Dataset\")\n",
    "fig.suptitle(\"Regression Plot\")\n",
    "ax.set_xlabel(\"Input Features (x)\")\n",
    "ax.set_ylabel(\"Output Labels (y)\")\n",
    "ax.scatter(xNorm, yNorm, label=\"Data points\")\n",
    "ax.plot(xNorm, predict(xNorm, w, b), color=\"red\", label=\"Best Fit line\")\n",
    "ax.legend()\n",
    "plt.show()"
   ],
   "id": "b5573c8a44ff0e78",
   "outputs": [
    {
     "data": {
      "text/plain": [
       "<Figure size 640x480 with 1 Axes>"
      ],
      "image/png": "[encoded data removed]"
     },
     "metadata": {},
     "output_type": "display_data"
    }
   ],
   "execution_count": 89
  },
  {
   "metadata": {
    "ExecuteTime": {
     "end_time": "2025-03-22T09:18:07.024449Z",
     "start_time": "2025-03-22T09:18:07.019332Z"
    }
   },
   "cell_type": "code",
   "source": "",
   "id": "df5ccc44dc402b8f",
   "outputs": [],
   "execution_count": null
  }
 ],
 "metadata": {
  "kernelspec": {
   "display_name": "Python 3",
   "language": "python",
   "name": "python3"
  },
  "language_info": {
   "codemirror_mode": {
    "name": "ipython",
    "version": 2
   },
   "file_extension": ".py",
   "mimetype": "text/x-python",
   "name": "python",
   "nbconvert_exporter": "python",
   "pygments_lexer": "ipython2",
   "version": "2.7.6"
  }
 },
 "nbformat": 4,
 "nbformat_minor": 5
}
